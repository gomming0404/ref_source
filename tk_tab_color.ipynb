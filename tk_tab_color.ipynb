{
 "cells": [
  {
   "cell_type": "code",
   "execution_count": 1,
   "metadata": {},
   "outputs": [],
   "source": [
    "import tkinter as tk\n",
    "from tkinter import ttk"
   ]
  },
  {
   "cell_type": "code",
   "execution_count": 3,
   "metadata": {},
   "outputs": [],
   "source": [
    "root = tk.Tk()\n",
    "\n",
    "mygreen = \"#d2ffd2\"\n",
    "myred = \"#dd0202\"\n",
    "\n",
    "style = ttk.Style()\n",
    "\n",
    "style.theme_create( \"yummy\", parent=\"alt\", settings={\n",
    "           \"TNotebook\": {\"configure\": {\"tabmargins\": [2, 5, 2, 0] } },\n",
    "           \"TNotebook.Tab\": {\n",
    "               \"configure\": {\"padding\": [5, 1], \"background\": mygreen },\n",
    "               \"map\":       {\"background\": [(\"selected\", myred)],\n",
    "                             \"expand\": [(\"selected\", [1, 1, 1, 0])] } } } )\n",
    "\n",
    "style.theme_use(\"yummy\")\n",
    "\n",
    "note = ttk.Notebook(root)\n",
    "f1 = ttk.Frame(note, width=300, height=200)\n",
    "note.add(f1, text = 'First')\n",
    "f2 = ttk.Frame(note, width=300, height=200)\n",
    "note.add(f2, text = 'Second')\n",
    "note.pack(expand=1, fill='both', padx=5, pady=5)\n",
    "\n",
    "tk.Button(root, text='yummy!').pack(fill='x')\n",
    "\n",
    "root.mainloop()"
   ]
  },
  {
   "cell_type": "code",
   "execution_count": null,
   "metadata": {},
   "outputs": [],
   "source": []
  }
 ],
 "metadata": {
  "kernelspec": {
   "display_name": "Python 3",
   "language": "python",
   "name": "python3"
  },
  "language_info": {
   "codemirror_mode": {
    "name": "ipython",
    "version": 3
   },
   "file_extension": ".py",
   "mimetype": "text/x-python",
   "name": "python",
   "nbconvert_exporter": "python",
   "pygments_lexer": "ipython3",
   "version": "3.7.6"
  }
 },
 "nbformat": 4,
 "nbformat_minor": 4
}
